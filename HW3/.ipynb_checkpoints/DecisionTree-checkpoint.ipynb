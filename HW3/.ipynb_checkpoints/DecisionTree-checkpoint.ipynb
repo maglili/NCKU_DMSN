{
 "cells": [
  {
   "cell_type": "markdown",
   "metadata": {},
   "source": [
    "# Buliding classification model\n",
    "\n",
    "sklearn decision tree"
   ]
  },
  {
   "cell_type": "markdown",
   "metadata": {},
   "source": [
    "## Data prepreocessing"
   ]
  },
  {
   "cell_type": "code",
   "execution_count": 1,
   "metadata": {},
   "outputs": [],
   "source": [
    "import pandas as pd\n",
    "import numpy as np\n",
    "import random\n",
    "random.seed(0)\n",
    "np.random.seed(0)"
   ]
  },
  {
   "cell_type": "code",
   "execution_count": 2,
   "metadata": {
    "scrolled": false
   },
   "outputs": [],
   "source": [
    "def open_data(fname: str ='training.txt')->pd.DataFrame:\n",
    "    \"\"\"\n",
    "    Open training data and convert data to DataFrame.\n",
    "    \"\"\"\n",
    "    data_list = []\n",
    "    with open(fname,'r',encoding='utf-8') as fh:\n",
    "        for i in fh:\n",
    "            i = i.strip() # remove redunat while space\n",
    "            i = i[1:-1] # remove \"{\", \"}\"\n",
    "            i = i.split(',') \n",
    "            attr_list = [-1. for x in range(5)]\n",
    "            attr_list[2] = 0 # basic\n",
    "            for attr in i:\n",
    "                attr = attr.split()\n",
    "                attr_type = attr[0]\n",
    "                attr_value = attr[1]\n",
    "                if attr_value.isnumeric():\n",
    "                    attr_value = float(attr_value)\n",
    "                if attr_type == '0': # marital_status\n",
    "                    if attr_value == 'S':\n",
    "                        attr_list[0] = 0.\n",
    "                    elif attr_value == 'M':\n",
    "                        attr_list[0] = 1.\n",
    "                        \n",
    "                elif attr_type == '1': # num_children\n",
    "                    attr_list[1] = attr_value\n",
    "                    \n",
    "                elif attr_type == '2': # member_card\n",
    "                    if attr_value == 'Normal':\n",
    "                        attr_list[2] = 1.\n",
    "                    elif attr_value == 'Silver':\n",
    "                        attr_list[2] = 2.\n",
    "                    elif attr_value == 'Gold': \n",
    "                        attr_list[2] = 3.\n",
    "                        \n",
    "                elif attr_type == '3': # age\n",
    "                    #attr_list[3] = attr_value\n",
    "                    if attr_value < 25:\n",
    "                        attr_list[3]  = 0.\n",
    "                    if 25 <= attr_value < 50:\n",
    "                        attr_list[3]  = 1.\n",
    "                    if 50 <= attr_value < 75:\n",
    "                        attr_list[3]  = 2.\n",
    "                    if 75 <= attr_value:\n",
    "                         attr_list[3]  = 3.                    \n",
    "                    \n",
    "                elif attr_type == '4': # year_income\n",
    "                    \n",
    "                    #attr_list[4] = attr_value\n",
    "                    if attr_value < 25000:\n",
    "                        attr_list[4] = 0.\n",
    "                    if 25000 <= attr_value <50000:\n",
    "                        attr_list[4] = 1.\n",
    "                    if 50000 <= attr_value < 75000:\n",
    "                        attr_list[4] = 2.\n",
    "                    if 75000 <= attr_value:\n",
    "                        attr_list[4] = 3.\n",
    "                    \n",
    "            data_list.append(attr_list)\n",
    "    df = pd.DataFrame(data_list, columns =['marital_status', 'num_children','member_card', 'age','year_income'])\n",
    "    return df"
   ]
  },
  {
   "cell_type": "code",
   "execution_count": 3,
   "metadata": {},
   "outputs": [
    {
     "data": {
      "text/html": [
       "<div>\n",
       "<style scoped>\n",
       "    .dataframe tbody tr th:only-of-type {\n",
       "        vertical-align: middle;\n",
       "    }\n",
       "\n",
       "    .dataframe tbody tr th {\n",
       "        vertical-align: top;\n",
       "    }\n",
       "\n",
       "    .dataframe thead th {\n",
       "        text-align: right;\n",
       "    }\n",
       "</style>\n",
       "<table border=\"1\" class=\"dataframe\">\n",
       "  <thead>\n",
       "    <tr style=\"text-align: right;\">\n",
       "      <th></th>\n",
       "      <th>marital_status</th>\n",
       "      <th>num_children</th>\n",
       "      <th>member_card</th>\n",
       "      <th>age</th>\n",
       "      <th>year_income</th>\n",
       "    </tr>\n",
       "  </thead>\n",
       "  <tbody>\n",
       "    <tr>\n",
       "      <th>0</th>\n",
       "      <td>-1.0</td>\n",
       "      <td>1.0</td>\n",
       "      <td>0.0</td>\n",
       "      <td>1.0</td>\n",
       "      <td>3.0</td>\n",
       "    </tr>\n",
       "    <tr>\n",
       "      <th>1</th>\n",
       "      <td>1.0</td>\n",
       "      <td>-1.0</td>\n",
       "      <td>3.0</td>\n",
       "      <td>3.0</td>\n",
       "      <td>3.0</td>\n",
       "    </tr>\n",
       "    <tr>\n",
       "      <th>2</th>\n",
       "      <td>1.0</td>\n",
       "      <td>1.0</td>\n",
       "      <td>3.0</td>\n",
       "      <td>3.0</td>\n",
       "      <td>0.0</td>\n",
       "    </tr>\n",
       "    <tr>\n",
       "      <th>3</th>\n",
       "      <td>-1.0</td>\n",
       "      <td>-1.0</td>\n",
       "      <td>1.0</td>\n",
       "      <td>1.0</td>\n",
       "      <td>0.0</td>\n",
       "    </tr>\n",
       "    <tr>\n",
       "      <th>4</th>\n",
       "      <td>1.0</td>\n",
       "      <td>-1.0</td>\n",
       "      <td>0.0</td>\n",
       "      <td>1.0</td>\n",
       "      <td>1.0</td>\n",
       "    </tr>\n",
       "    <tr>\n",
       "      <th>...</th>\n",
       "      <td>...</td>\n",
       "      <td>...</td>\n",
       "      <td>...</td>\n",
       "      <td>...</td>\n",
       "      <td>...</td>\n",
       "    </tr>\n",
       "    <tr>\n",
       "      <th>486</th>\n",
       "      <td>1.0</td>\n",
       "      <td>-1.0</td>\n",
       "      <td>1.0</td>\n",
       "      <td>3.0</td>\n",
       "      <td>0.0</td>\n",
       "    </tr>\n",
       "    <tr>\n",
       "      <th>487</th>\n",
       "      <td>-1.0</td>\n",
       "      <td>5.0</td>\n",
       "      <td>1.0</td>\n",
       "      <td>1.0</td>\n",
       "      <td>0.0</td>\n",
       "    </tr>\n",
       "    <tr>\n",
       "      <th>488</th>\n",
       "      <td>1.0</td>\n",
       "      <td>3.0</td>\n",
       "      <td>3.0</td>\n",
       "      <td>2.0</td>\n",
       "      <td>1.0</td>\n",
       "    </tr>\n",
       "    <tr>\n",
       "      <th>489</th>\n",
       "      <td>1.0</td>\n",
       "      <td>3.0</td>\n",
       "      <td>2.0</td>\n",
       "      <td>1.0</td>\n",
       "      <td>1.0</td>\n",
       "    </tr>\n",
       "    <tr>\n",
       "      <th>490</th>\n",
       "      <td>-1.0</td>\n",
       "      <td>2.0</td>\n",
       "      <td>2.0</td>\n",
       "      <td>2.0</td>\n",
       "      <td>3.0</td>\n",
       "    </tr>\n",
       "  </tbody>\n",
       "</table>\n",
       "<p>491 rows × 5 columns</p>\n",
       "</div>"
      ],
      "text/plain": [
       "     marital_status  num_children  member_card  age  year_income\n",
       "0              -1.0           1.0          0.0  1.0          3.0\n",
       "1               1.0          -1.0          3.0  3.0          3.0\n",
       "2               1.0           1.0          3.0  3.0          0.0\n",
       "3              -1.0          -1.0          1.0  1.0          0.0\n",
       "4               1.0          -1.0          0.0  1.0          1.0\n",
       "..              ...           ...          ...  ...          ...\n",
       "486             1.0          -1.0          1.0  3.0          0.0\n",
       "487            -1.0           5.0          1.0  1.0          0.0\n",
       "488             1.0           3.0          3.0  2.0          1.0\n",
       "489             1.0           3.0          2.0  1.0          1.0\n",
       "490            -1.0           2.0          2.0  2.0          3.0\n",
       "\n",
       "[491 rows x 5 columns]"
      ]
     },
     "execution_count": 3,
     "metadata": {},
     "output_type": "execute_result"
    }
   ],
   "source": [
    "traindf = open_data()\n",
    "traindf"
   ]
  },
  {
   "cell_type": "code",
   "execution_count": 4,
   "metadata": {},
   "outputs": [
    {
     "data": {
      "text/html": [
       "<div>\n",
       "<style scoped>\n",
       "    .dataframe tbody tr th:only-of-type {\n",
       "        vertical-align: middle;\n",
       "    }\n",
       "\n",
       "    .dataframe tbody tr th {\n",
       "        vertical-align: top;\n",
       "    }\n",
       "\n",
       "    .dataframe thead th {\n",
       "        text-align: right;\n",
       "    }\n",
       "</style>\n",
       "<table border=\"1\" class=\"dataframe\">\n",
       "  <thead>\n",
       "    <tr style=\"text-align: right;\">\n",
       "      <th></th>\n",
       "      <th>marital_status</th>\n",
       "      <th>num_children</th>\n",
       "      <th>member_card</th>\n",
       "      <th>age</th>\n",
       "      <th>year_income</th>\n",
       "    </tr>\n",
       "  </thead>\n",
       "  <tbody>\n",
       "    <tr>\n",
       "      <th>0</th>\n",
       "      <td>1.0</td>\n",
       "      <td>1.0</td>\n",
       "      <td>0.0</td>\n",
       "      <td>2.0</td>\n",
       "      <td>2.0</td>\n",
       "    </tr>\n",
       "    <tr>\n",
       "      <th>1</th>\n",
       "      <td>-1.0</td>\n",
       "      <td>3.0</td>\n",
       "      <td>2.0</td>\n",
       "      <td>1.0</td>\n",
       "      <td>3.0</td>\n",
       "    </tr>\n",
       "    <tr>\n",
       "      <th>2</th>\n",
       "      <td>1.0</td>\n",
       "      <td>2.0</td>\n",
       "      <td>0.0</td>\n",
       "      <td>2.0</td>\n",
       "      <td>3.0</td>\n",
       "    </tr>\n",
       "    <tr>\n",
       "      <th>3</th>\n",
       "      <td>1.0</td>\n",
       "      <td>2.0</td>\n",
       "      <td>1.0</td>\n",
       "      <td>1.0</td>\n",
       "      <td>2.0</td>\n",
       "    </tr>\n",
       "    <tr>\n",
       "      <th>4</th>\n",
       "      <td>-1.0</td>\n",
       "      <td>-1.0</td>\n",
       "      <td>0.0</td>\n",
       "      <td>2.0</td>\n",
       "      <td>2.0</td>\n",
       "    </tr>\n",
       "    <tr>\n",
       "      <th>...</th>\n",
       "      <td>...</td>\n",
       "      <td>...</td>\n",
       "      <td>...</td>\n",
       "      <td>...</td>\n",
       "      <td>...</td>\n",
       "    </tr>\n",
       "    <tr>\n",
       "      <th>206</th>\n",
       "      <td>1.0</td>\n",
       "      <td>-1.0</td>\n",
       "      <td>0.0</td>\n",
       "      <td>3.0</td>\n",
       "      <td>1.0</td>\n",
       "    </tr>\n",
       "    <tr>\n",
       "      <th>207</th>\n",
       "      <td>1.0</td>\n",
       "      <td>1.0</td>\n",
       "      <td>0.0</td>\n",
       "      <td>1.0</td>\n",
       "      <td>1.0</td>\n",
       "    </tr>\n",
       "    <tr>\n",
       "      <th>208</th>\n",
       "      <td>-1.0</td>\n",
       "      <td>1.0</td>\n",
       "      <td>0.0</td>\n",
       "      <td>3.0</td>\n",
       "      <td>1.0</td>\n",
       "    </tr>\n",
       "    <tr>\n",
       "      <th>209</th>\n",
       "      <td>1.0</td>\n",
       "      <td>1.0</td>\n",
       "      <td>0.0</td>\n",
       "      <td>1.0</td>\n",
       "      <td>3.0</td>\n",
       "    </tr>\n",
       "    <tr>\n",
       "      <th>210</th>\n",
       "      <td>1.0</td>\n",
       "      <td>-1.0</td>\n",
       "      <td>0.0</td>\n",
       "      <td>3.0</td>\n",
       "      <td>1.0</td>\n",
       "    </tr>\n",
       "  </tbody>\n",
       "</table>\n",
       "<p>211 rows × 5 columns</p>\n",
       "</div>"
      ],
      "text/plain": [
       "     marital_status  num_children  member_card  age  year_income\n",
       "0               1.0           1.0          0.0  2.0          2.0\n",
       "1              -1.0           3.0          2.0  1.0          3.0\n",
       "2               1.0           2.0          0.0  2.0          3.0\n",
       "3               1.0           2.0          1.0  1.0          2.0\n",
       "4              -1.0          -1.0          0.0  2.0          2.0\n",
       "..              ...           ...          ...  ...          ...\n",
       "206             1.0          -1.0          0.0  3.0          1.0\n",
       "207             1.0           1.0          0.0  1.0          1.0\n",
       "208            -1.0           1.0          0.0  3.0          1.0\n",
       "209             1.0           1.0          0.0  1.0          3.0\n",
       "210             1.0          -1.0          0.0  3.0          1.0\n",
       "\n",
       "[211 rows x 5 columns]"
      ]
     },
     "execution_count": 4,
     "metadata": {},
     "output_type": "execute_result"
    }
   ],
   "source": [
    "cvdf = open_data('test.txt')\n",
    "cvdf"
   ]
  },
  {
   "cell_type": "code",
   "execution_count": 5,
   "metadata": {},
   "outputs": [
    {
     "data": {
      "text/html": [
       "<div>\n",
       "<style scoped>\n",
       "    .dataframe tbody tr th:only-of-type {\n",
       "        vertical-align: middle;\n",
       "    }\n",
       "\n",
       "    .dataframe tbody tr th {\n",
       "        vertical-align: top;\n",
       "    }\n",
       "\n",
       "    .dataframe thead th {\n",
       "        text-align: right;\n",
       "    }\n",
       "</style>\n",
       "<table border=\"1\" class=\"dataframe\">\n",
       "  <thead>\n",
       "    <tr style=\"text-align: right;\">\n",
       "      <th></th>\n",
       "      <th>marital_status</th>\n",
       "      <th>num_children</th>\n",
       "      <th>member_card</th>\n",
       "      <th>age</th>\n",
       "      <th>year_income</th>\n",
       "    </tr>\n",
       "  </thead>\n",
       "  <tbody>\n",
       "    <tr>\n",
       "      <th>238</th>\n",
       "      <td>-1.0</td>\n",
       "      <td>2.0</td>\n",
       "      <td>0.0</td>\n",
       "      <td>1.0</td>\n",
       "      <td>3.0</td>\n",
       "    </tr>\n",
       "    <tr>\n",
       "      <th>179</th>\n",
       "      <td>1.0</td>\n",
       "      <td>3.0</td>\n",
       "      <td>0.0</td>\n",
       "      <td>2.0</td>\n",
       "      <td>3.0</td>\n",
       "    </tr>\n",
       "    <tr>\n",
       "      <th>438</th>\n",
       "      <td>-1.0</td>\n",
       "      <td>2.0</td>\n",
       "      <td>0.0</td>\n",
       "      <td>1.0</td>\n",
       "      <td>3.0</td>\n",
       "    </tr>\n",
       "    <tr>\n",
       "      <th>325</th>\n",
       "      <td>-1.0</td>\n",
       "      <td>-1.0</td>\n",
       "      <td>0.0</td>\n",
       "      <td>3.0</td>\n",
       "      <td>3.0</td>\n",
       "    </tr>\n",
       "    <tr>\n",
       "      <th>15</th>\n",
       "      <td>-1.0</td>\n",
       "      <td>1.0</td>\n",
       "      <td>0.0</td>\n",
       "      <td>3.0</td>\n",
       "      <td>2.0</td>\n",
       "    </tr>\n",
       "    <tr>\n",
       "      <th>...</th>\n",
       "      <td>...</td>\n",
       "      <td>...</td>\n",
       "      <td>...</td>\n",
       "      <td>...</td>\n",
       "      <td>...</td>\n",
       "    </tr>\n",
       "    <tr>\n",
       "      <th>323</th>\n",
       "      <td>1.0</td>\n",
       "      <td>2.0</td>\n",
       "      <td>0.0</td>\n",
       "      <td>1.0</td>\n",
       "      <td>1.0</td>\n",
       "    </tr>\n",
       "    <tr>\n",
       "      <th>192</th>\n",
       "      <td>-1.0</td>\n",
       "      <td>-1.0</td>\n",
       "      <td>0.0</td>\n",
       "      <td>2.0</td>\n",
       "      <td>2.0</td>\n",
       "    </tr>\n",
       "    <tr>\n",
       "      <th>117</th>\n",
       "      <td>1.0</td>\n",
       "      <td>-1.0</td>\n",
       "      <td>0.0</td>\n",
       "      <td>3.0</td>\n",
       "      <td>1.0</td>\n",
       "    </tr>\n",
       "    <tr>\n",
       "      <th>47</th>\n",
       "      <td>1.0</td>\n",
       "      <td>-1.0</td>\n",
       "      <td>2.0</td>\n",
       "      <td>2.0</td>\n",
       "      <td>2.0</td>\n",
       "    </tr>\n",
       "    <tr>\n",
       "      <th>172</th>\n",
       "      <td>-1.0</td>\n",
       "      <td>3.0</td>\n",
       "      <td>3.0</td>\n",
       "      <td>2.0</td>\n",
       "      <td>1.0</td>\n",
       "    </tr>\n",
       "  </tbody>\n",
       "</table>\n",
       "<p>491 rows × 5 columns</p>\n",
       "</div>"
      ],
      "text/plain": [
       "     marital_status  num_children  member_card  age  year_income\n",
       "238            -1.0           2.0          0.0  1.0          3.0\n",
       "179             1.0           3.0          0.0  2.0          3.0\n",
       "438            -1.0           2.0          0.0  1.0          3.0\n",
       "325            -1.0          -1.0          0.0  3.0          3.0\n",
       "15             -1.0           1.0          0.0  3.0          2.0\n",
       "..              ...           ...          ...  ...          ...\n",
       "323             1.0           2.0          0.0  1.0          1.0\n",
       "192            -1.0          -1.0          0.0  2.0          2.0\n",
       "117             1.0          -1.0          0.0  3.0          1.0\n",
       "47              1.0          -1.0          2.0  2.0          2.0\n",
       "172            -1.0           3.0          3.0  2.0          1.0\n",
       "\n",
       "[491 rows x 5 columns]"
      ]
     },
     "execution_count": 5,
     "metadata": {},
     "output_type": "execute_result"
    }
   ],
   "source": [
    "from sklearn.utils import shuffle\n",
    "traindf = shuffle(traindf)\n",
    "traindf"
   ]
  },
  {
   "cell_type": "code",
   "execution_count": 6,
   "metadata": {},
   "outputs": [],
   "source": [
    "def count_missing_val(Train=True):\n",
    "    \"\"\"\n",
    "    Count missing value in data.\n",
    "    \"\"\"\n",
    "    if Train:\n",
    "        df = traindf\n",
    "        print('[Training data]')\n",
    "    else:\n",
    "        df = cvdf\n",
    "        print('[Validation data]')\n",
    "    count = 0\n",
    "    for idx in range(len(df)):\n",
    "        a,b,c,d,e = df.iloc[idx]\n",
    "\n",
    "        if (a==-1.) or (b==-1.) or (c==-1.) or (d==-1.) or (e==-1.):\n",
    "            count += 1\n",
    "    \n",
    "    print('Total row:',len(df))\n",
    "    print('Missing row:',count)\n",
    "    print()"
   ]
  },
  {
   "cell_type": "code",
   "execution_count": 7,
   "metadata": {},
   "outputs": [
    {
     "name": "stdout",
     "output_type": "stream",
     "text": [
      "[Training data]\n",
      "Total row: 491\n",
      "Missing row: 320\n",
      "\n",
      "[Validation data]\n",
      "Total row: 211\n",
      "Missing row: 136\n",
      "\n"
     ]
    }
   ],
   "source": [
    "count_missing_val()\n",
    "count_missing_val(False)"
   ]
  },
  {
   "cell_type": "markdown",
   "metadata": {},
   "source": [
    "### Spliting   feature X and label y"
   ]
  },
  {
   "cell_type": "code",
   "execution_count": 8,
   "metadata": {},
   "outputs": [
    {
     "name": "stdout",
     "output_type": "stream",
     "text": [
      "train_X: (491, 4)\n",
      "train_y: (491,)\n"
     ]
    }
   ],
   "source": [
    "train_X = traindf[['marital_status','num_children','age','year_income']].values\n",
    "print('train_X:',train_X.shape)\n",
    "\n",
    "train_y = traindf['member_card'].values\n",
    "print('train_y:',train_y.shape)"
   ]
  },
  {
   "cell_type": "code",
   "execution_count": 9,
   "metadata": {},
   "outputs": [
    {
     "name": "stdout",
     "output_type": "stream",
     "text": [
      "cv_X: (211, 4)\n",
      "cv_y: (211,)\n"
     ]
    }
   ],
   "source": [
    "cv_X = cvdf[['marital_status','num_children','age','year_income']].values\n",
    "print('cv_X:',cv_X.shape)\n",
    "\n",
    "cv_y = cvdf['member_card'].values\n",
    "print('cv_y:',cv_y.shape)"
   ]
  },
  {
   "cell_type": "markdown",
   "metadata": {},
   "source": [
    "### Feature normalization"
   ]
  },
  {
   "cell_type": "code",
   "execution_count": 12,
   "metadata": {},
   "outputs": [],
   "source": [
    "# from sklearn.preprocessing import MinMaxScaler\n",
    "# scaler = MinMaxScaler((-1,1))"
   ]
  },
  {
   "cell_type": "code",
   "execution_count": 13,
   "metadata": {},
   "outputs": [],
   "source": [
    "# X_scaled = scaler.fit_transform(train_X)\n",
    "# X_test_scaled = scaler.fit_transform(cv_X)"
   ]
  },
  {
   "cell_type": "markdown",
   "metadata": {},
   "source": [
    "## check label balance"
   ]
  },
  {
   "cell_type": "code",
   "execution_count": 14,
   "metadata": {},
   "outputs": [],
   "source": [
    "def check_balance(Train=True):\n",
    "    if Train:\n",
    "        df = traindf\n",
    "        print('[Training]')\n",
    "    else:\n",
    "        df = cvdf\n",
    "        print('[Validation]')\n",
    "        \n",
    "    len0 = len(df[df['member_card']==0])\n",
    "    len1 = len(df[df['member_card']==1])\n",
    "    len2 = len(df[df['member_card']==2])\n",
    "    len3 = len(df[df['member_card']==3])\n",
    "    \n",
    "    max_ = max([len0, len1, len2, len3])\n",
    "    \n",
    "    weights = [max_/len0, max_/len1, max_/len2, max_/len3]\n",
    "\n",
    "    print('Num of label basic:',len0)\n",
    "    print('Num of label normal:',len1)\n",
    "    print('Num of label silver:',len2)\n",
    "    print('Num of label gold:',len3)\n",
    "    print('-'*20)\n",
    "    print('weights:',weights)\n",
    "    print('Total:',len0+len1+len2+len3)\n",
    "    print('Len of df:',len(df))\n",
    "    print()\n",
    "    \n",
    "    return weights"
   ]
  },
  {
   "cell_type": "code",
   "execution_count": 15,
   "metadata": {},
   "outputs": [
    {
     "name": "stdout",
     "output_type": "stream",
     "text": [
      "[Training]\n",
      "Num of label basic: 254\n",
      "Num of label normal: 79\n",
      "Num of label silver: 65\n",
      "Num of label gold: 93\n",
      "--------------------\n",
      "weights: [1.0, 3.2151898734177213, 3.9076923076923076, 2.7311827956989245]\n",
      "Total: 491\n",
      "Len of df: 491\n",
      "\n",
      "[Validation]\n",
      "Num of label basic: 126\n",
      "Num of label normal: 26\n",
      "Num of label silver: 33\n",
      "Num of label gold: 26\n",
      "--------------------\n",
      "weights: [1.0, 4.846153846153846, 3.8181818181818183, 4.846153846153846]\n",
      "Total: 211\n",
      "Len of df: 211\n",
      "\n"
     ]
    }
   ],
   "source": [
    "weights = check_balance()\n",
    "_ = check_balance(False)"
   ]
  },
  {
   "cell_type": "markdown",
   "metadata": {},
   "source": [
    "## SK-learn"
   ]
  },
  {
   "cell_type": "code",
   "execution_count": 50,
   "metadata": {},
   "outputs": [],
   "source": [
    "from sklearn import tree\n",
    "from sklearn.metrics import accuracy_score"
   ]
  },
  {
   "cell_type": "code",
   "execution_count": 51,
   "metadata": {},
   "outputs": [],
   "source": [
    "clf = tree.DecisionTreeClassifier()\n",
    "clf = clf.fit(train_X, train_y)"
   ]
  },
  {
   "cell_type": "code",
   "execution_count": 57,
   "metadata": {},
   "outputs": [
    {
     "name": "stdout",
     "output_type": "stream",
     "text": [
      "Train acc: 0.7230142566191446\n"
     ]
    }
   ],
   "source": [
    "training_acc = clf.score(train_X,train_y)\n",
    "print('Train acc:',training_acc)\n",
    "# pred_y = clf.predict(train_X)\n",
    "# accuracy_score(train_y, pred_y)"
   ]
  },
  {
   "cell_type": "code",
   "execution_count": 58,
   "metadata": {},
   "outputs": [
    {
     "name": "stdout",
     "output_type": "stream",
     "text": [
      "Validation acc: 0.7014218009478673\n"
     ]
    }
   ],
   "source": [
    "cv_acc = clf.score(cv_X, cv_y)\n",
    "print('Validation acc:',cv_acc)\n",
    "# pred_cv_y = clf.predict(cv_X)\n",
    "# accuracy_score(cv_y, pred_cv_y)"
   ]
  },
  {
   "cell_type": "code",
   "execution_count": 54,
   "metadata": {},
   "outputs": [
    {
     "data": {
      "image/png": "[encoded data removed]",
      "text/plain": [
       "<Figure size 432x288 with 1 Axes>"
      ]
     },
     "metadata": {
      "needs_background": "light"
     },
     "output_type": "display_data"
    }
   ],
   "source": [
    "infos=tree.plot_tree(clf)"
   ]
  },
  {
   "cell_type": "code",
   "execution_count": null,
   "metadata": {},
   "outputs": [],
   "source": []
  }
 ],
 "metadata": {
  "kernelspec": {
   "display_name": "Python 3",
   "language": "python",
   "name": "python3"
  },
  "language_info": {
   "codemirror_mode": {
    "name": "ipython",
    "version": 3
   },
   "file_extension": ".py",
   "mimetype": "text/x-python",
   "name": "python",
   "nbconvert_exporter": "python",
   "pygments_lexer": "ipython3",
   "version": "3.8.6"
  }
 },
 "nbformat": 4,
 "nbformat_minor": 4
}
