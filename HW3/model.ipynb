{
 "cells": [
  {
   "cell_type": "markdown",
   "metadata": {},
   "source": [
    "# Buliding classification model"
   ]
  },
  {
   "cell_type": "markdown",
   "metadata": {},
   "source": [
    "## Data prepreocessing"
   ]
  },
  {
   "cell_type": "code",
   "execution_count": 148,
   "metadata": {},
   "outputs": [],
   "source": [
    "import pandas as pd\n",
    "import numpy as np\n",
    "import random\n",
    "random.seed(0)\n",
    "np.random.seed(0)"
   ]
  },
  {
   "cell_type": "code",
   "execution_count": 149,
   "metadata": {
    "scrolled": false
   },
   "outputs": [],
   "source": [
    "def open_data(fname: str ='training.txt')->pd.DataFrame:\n",
    "    \"\"\"\n",
    "    Open training data and convert data to DataFrame.\n",
    "    \"\"\"\n",
    "    data_list = []\n",
    "    with open(fname,'r',encoding='utf-8') as fh:\n",
    "        for i in fh:\n",
    "            i = i.strip() # remove redunat while space\n",
    "            i = i[1:-1] # remove \"{\", \"}\"\n",
    "            i = i.split(',') \n",
    "            attr_list = [-1. for x in range(5)]\n",
    "            attr_list[2] = 0 # basic\n",
    "            for attr in i:\n",
    "                attr = attr.split()\n",
    "                attr_type = attr[0]\n",
    "                attr_value = attr[1]\n",
    "                if attr_value.isnumeric():\n",
    "                    attr_value = float(attr_value)\n",
    "                if attr_type == '0': # marital_status\n",
    "                    if attr_value == 'S':\n",
    "                        attr_list[0] = 0.\n",
    "                    elif attr_value == 'M':\n",
    "                        attr_list[0] = 1.\n",
    "                        \n",
    "                elif attr_type == '1': # num_children\n",
    "                    attr_list[1] = attr_value\n",
    "                    \n",
    "                elif attr_type == '2': # member_card\n",
    "                    if attr_value == 'Normal':\n",
    "                        attr_list[2] = 1.\n",
    "                    elif attr_value == 'Silver':\n",
    "                        attr_list[2] = 2.\n",
    "                    elif attr_value == 'Gold': \n",
    "                        attr_list[2] = 3.\n",
    "                        \n",
    "                elif attr_type == '3': # age\n",
    "                    attr_list[3] = attr_value\n",
    "                    \n",
    "                elif attr_type == '4': # year_income\n",
    "                    attr_list[4] = attr_value\n",
    "            data_list.append(attr_list)\n",
    "    df = pd.DataFrame(data_list, columns =['marital_status', 'num_children','member_card', 'age','year_income'])\n",
    "    return df"
   ]
  },
  {
   "cell_type": "code",
   "execution_count": 150,
   "metadata": {},
   "outputs": [
    {
     "data": {
      "text/html": [
       "<div>\n",
       "<style scoped>\n",
       "    .dataframe tbody tr th:only-of-type {\n",
       "        vertical-align: middle;\n",
       "    }\n",
       "\n",
       "    .dataframe tbody tr th {\n",
       "        vertical-align: top;\n",
       "    }\n",
       "\n",
       "    .dataframe thead th {\n",
       "        text-align: right;\n",
       "    }\n",
       "</style>\n",
       "<table border=\"1\" class=\"dataframe\">\n",
       "  <thead>\n",
       "    <tr style=\"text-align: right;\">\n",
       "      <th></th>\n",
       "      <th>marital_status</th>\n",
       "      <th>num_children</th>\n",
       "      <th>member_card</th>\n",
       "      <th>age</th>\n",
       "      <th>year_income</th>\n",
       "    </tr>\n",
       "  </thead>\n",
       "  <tbody>\n",
       "    <tr>\n",
       "      <th>0</th>\n",
       "      <td>-1.0</td>\n",
       "      <td>1.0</td>\n",
       "      <td>0.0</td>\n",
       "      <td>39.0</td>\n",
       "      <td>100000.0</td>\n",
       "    </tr>\n",
       "    <tr>\n",
       "      <th>1</th>\n",
       "      <td>1.0</td>\n",
       "      <td>-1.0</td>\n",
       "      <td>3.0</td>\n",
       "      <td>85.0</td>\n",
       "      <td>80000.0</td>\n",
       "    </tr>\n",
       "    <tr>\n",
       "      <th>2</th>\n",
       "      <td>1.0</td>\n",
       "      <td>1.0</td>\n",
       "      <td>3.0</td>\n",
       "      <td>90.0</td>\n",
       "      <td>20000.0</td>\n",
       "    </tr>\n",
       "    <tr>\n",
       "      <th>3</th>\n",
       "      <td>-1.0</td>\n",
       "      <td>-1.0</td>\n",
       "      <td>1.0</td>\n",
       "      <td>31.0</td>\n",
       "      <td>20000.0</td>\n",
       "    </tr>\n",
       "    <tr>\n",
       "      <th>4</th>\n",
       "      <td>1.0</td>\n",
       "      <td>-1.0</td>\n",
       "      <td>0.0</td>\n",
       "      <td>49.0</td>\n",
       "      <td>40000.0</td>\n",
       "    </tr>\n",
       "    <tr>\n",
       "      <th>...</th>\n",
       "      <td>...</td>\n",
       "      <td>...</td>\n",
       "      <td>...</td>\n",
       "      <td>...</td>\n",
       "      <td>...</td>\n",
       "    </tr>\n",
       "    <tr>\n",
       "      <th>486</th>\n",
       "      <td>1.0</td>\n",
       "      <td>-1.0</td>\n",
       "      <td>1.0</td>\n",
       "      <td>82.0</td>\n",
       "      <td>20000.0</td>\n",
       "    </tr>\n",
       "    <tr>\n",
       "      <th>487</th>\n",
       "      <td>-1.0</td>\n",
       "      <td>5.0</td>\n",
       "      <td>1.0</td>\n",
       "      <td>31.0</td>\n",
       "      <td>20000.0</td>\n",
       "    </tr>\n",
       "    <tr>\n",
       "      <th>488</th>\n",
       "      <td>1.0</td>\n",
       "      <td>3.0</td>\n",
       "      <td>3.0</td>\n",
       "      <td>52.0</td>\n",
       "      <td>40000.0</td>\n",
       "    </tr>\n",
       "    <tr>\n",
       "      <th>489</th>\n",
       "      <td>1.0</td>\n",
       "      <td>3.0</td>\n",
       "      <td>2.0</td>\n",
       "      <td>27.0</td>\n",
       "      <td>40000.0</td>\n",
       "    </tr>\n",
       "    <tr>\n",
       "      <th>490</th>\n",
       "      <td>-1.0</td>\n",
       "      <td>2.0</td>\n",
       "      <td>2.0</td>\n",
       "      <td>56.0</td>\n",
       "      <td>120000.0</td>\n",
       "    </tr>\n",
       "  </tbody>\n",
       "</table>\n",
       "<p>491 rows × 5 columns</p>\n",
       "</div>"
      ],
      "text/plain": [
       "     marital_status  num_children  member_card   age  year_income\n",
       "0              -1.0           1.0          0.0  39.0     100000.0\n",
       "1               1.0          -1.0          3.0  85.0      80000.0\n",
       "2               1.0           1.0          3.0  90.0      20000.0\n",
       "3              -1.0          -1.0          1.0  31.0      20000.0\n",
       "4               1.0          -1.0          0.0  49.0      40000.0\n",
       "..              ...           ...          ...   ...          ...\n",
       "486             1.0          -1.0          1.0  82.0      20000.0\n",
       "487            -1.0           5.0          1.0  31.0      20000.0\n",
       "488             1.0           3.0          3.0  52.0      40000.0\n",
       "489             1.0           3.0          2.0  27.0      40000.0\n",
       "490            -1.0           2.0          2.0  56.0     120000.0\n",
       "\n",
       "[491 rows x 5 columns]"
      ]
     },
     "execution_count": 150,
     "metadata": {},
     "output_type": "execute_result"
    }
   ],
   "source": [
    "traindf = open_data()\n",
    "traindf"
   ]
  },
  {
   "cell_type": "code",
   "execution_count": 151,
   "metadata": {},
   "outputs": [
    {
     "data": {
      "text/html": [
       "<div>\n",
       "<style scoped>\n",
       "    .dataframe tbody tr th:only-of-type {\n",
       "        vertical-align: middle;\n",
       "    }\n",
       "\n",
       "    .dataframe tbody tr th {\n",
       "        vertical-align: top;\n",
       "    }\n",
       "\n",
       "    .dataframe thead th {\n",
       "        text-align: right;\n",
       "    }\n",
       "</style>\n",
       "<table border=\"1\" class=\"dataframe\">\n",
       "  <thead>\n",
       "    <tr style=\"text-align: right;\">\n",
       "      <th></th>\n",
       "      <th>marital_status</th>\n",
       "      <th>num_children</th>\n",
       "      <th>member_card</th>\n",
       "      <th>age</th>\n",
       "      <th>year_income</th>\n",
       "    </tr>\n",
       "  </thead>\n",
       "  <tbody>\n",
       "    <tr>\n",
       "      <th>0</th>\n",
       "      <td>1.0</td>\n",
       "      <td>1.0</td>\n",
       "      <td>0.0</td>\n",
       "      <td>59.0</td>\n",
       "      <td>60000.0</td>\n",
       "    </tr>\n",
       "    <tr>\n",
       "      <th>1</th>\n",
       "      <td>-1.0</td>\n",
       "      <td>3.0</td>\n",
       "      <td>2.0</td>\n",
       "      <td>43.0</td>\n",
       "      <td>160000.0</td>\n",
       "    </tr>\n",
       "    <tr>\n",
       "      <th>2</th>\n",
       "      <td>1.0</td>\n",
       "      <td>2.0</td>\n",
       "      <td>0.0</td>\n",
       "      <td>52.0</td>\n",
       "      <td>120000.0</td>\n",
       "    </tr>\n",
       "    <tr>\n",
       "      <th>3</th>\n",
       "      <td>1.0</td>\n",
       "      <td>2.0</td>\n",
       "      <td>1.0</td>\n",
       "      <td>30.0</td>\n",
       "      <td>60000.0</td>\n",
       "    </tr>\n",
       "    <tr>\n",
       "      <th>4</th>\n",
       "      <td>-1.0</td>\n",
       "      <td>-1.0</td>\n",
       "      <td>0.0</td>\n",
       "      <td>73.0</td>\n",
       "      <td>60000.0</td>\n",
       "    </tr>\n",
       "    <tr>\n",
       "      <th>...</th>\n",
       "      <td>...</td>\n",
       "      <td>...</td>\n",
       "      <td>...</td>\n",
       "      <td>...</td>\n",
       "      <td>...</td>\n",
       "    </tr>\n",
       "    <tr>\n",
       "      <th>206</th>\n",
       "      <td>1.0</td>\n",
       "      <td>-1.0</td>\n",
       "      <td>0.0</td>\n",
       "      <td>87.0</td>\n",
       "      <td>40000.0</td>\n",
       "    </tr>\n",
       "    <tr>\n",
       "      <th>207</th>\n",
       "      <td>1.0</td>\n",
       "      <td>1.0</td>\n",
       "      <td>0.0</td>\n",
       "      <td>32.0</td>\n",
       "      <td>40000.0</td>\n",
       "    </tr>\n",
       "    <tr>\n",
       "      <th>208</th>\n",
       "      <td>-1.0</td>\n",
       "      <td>1.0</td>\n",
       "      <td>0.0</td>\n",
       "      <td>87.0</td>\n",
       "      <td>40000.0</td>\n",
       "    </tr>\n",
       "    <tr>\n",
       "      <th>209</th>\n",
       "      <td>1.0</td>\n",
       "      <td>1.0</td>\n",
       "      <td>0.0</td>\n",
       "      <td>39.0</td>\n",
       "      <td>80000.0</td>\n",
       "    </tr>\n",
       "    <tr>\n",
       "      <th>210</th>\n",
       "      <td>1.0</td>\n",
       "      <td>-1.0</td>\n",
       "      <td>0.0</td>\n",
       "      <td>85.0</td>\n",
       "      <td>40000.0</td>\n",
       "    </tr>\n",
       "  </tbody>\n",
       "</table>\n",
       "<p>211 rows × 5 columns</p>\n",
       "</div>"
      ],
      "text/plain": [
       "     marital_status  num_children  member_card   age  year_income\n",
       "0               1.0           1.0          0.0  59.0      60000.0\n",
       "1              -1.0           3.0          2.0  43.0     160000.0\n",
       "2               1.0           2.0          0.0  52.0     120000.0\n",
       "3               1.0           2.0          1.0  30.0      60000.0\n",
       "4              -1.0          -1.0          0.0  73.0      60000.0\n",
       "..              ...           ...          ...   ...          ...\n",
       "206             1.0          -1.0          0.0  87.0      40000.0\n",
       "207             1.0           1.0          0.0  32.0      40000.0\n",
       "208            -1.0           1.0          0.0  87.0      40000.0\n",
       "209             1.0           1.0          0.0  39.0      80000.0\n",
       "210             1.0          -1.0          0.0  85.0      40000.0\n",
       "\n",
       "[211 rows x 5 columns]"
      ]
     },
     "execution_count": 151,
     "metadata": {},
     "output_type": "execute_result"
    }
   ],
   "source": [
    "cvdf = open_data('test.txt')\n",
    "cvdf"
   ]
  },
  {
   "cell_type": "code",
   "execution_count": 152,
   "metadata": {},
   "outputs": [
    {
     "data": {
      "text/html": [
       "<div>\n",
       "<style scoped>\n",
       "    .dataframe tbody tr th:only-of-type {\n",
       "        vertical-align: middle;\n",
       "    }\n",
       "\n",
       "    .dataframe tbody tr th {\n",
       "        vertical-align: top;\n",
       "    }\n",
       "\n",
       "    .dataframe thead th {\n",
       "        text-align: right;\n",
       "    }\n",
       "</style>\n",
       "<table border=\"1\" class=\"dataframe\">\n",
       "  <thead>\n",
       "    <tr style=\"text-align: right;\">\n",
       "      <th></th>\n",
       "      <th>marital_status</th>\n",
       "      <th>num_children</th>\n",
       "      <th>member_card</th>\n",
       "      <th>age</th>\n",
       "      <th>year_income</th>\n",
       "    </tr>\n",
       "  </thead>\n",
       "  <tbody>\n",
       "    <tr>\n",
       "      <th>238</th>\n",
       "      <td>-1.0</td>\n",
       "      <td>2.0</td>\n",
       "      <td>0.0</td>\n",
       "      <td>39.0</td>\n",
       "      <td>80000.0</td>\n",
       "    </tr>\n",
       "    <tr>\n",
       "      <th>179</th>\n",
       "      <td>1.0</td>\n",
       "      <td>3.0</td>\n",
       "      <td>0.0</td>\n",
       "      <td>55.0</td>\n",
       "      <td>80000.0</td>\n",
       "    </tr>\n",
       "    <tr>\n",
       "      <th>438</th>\n",
       "      <td>-1.0</td>\n",
       "      <td>2.0</td>\n",
       "      <td>0.0</td>\n",
       "      <td>49.0</td>\n",
       "      <td>80000.0</td>\n",
       "    </tr>\n",
       "    <tr>\n",
       "      <th>325</th>\n",
       "      <td>-1.0</td>\n",
       "      <td>-1.0</td>\n",
       "      <td>0.0</td>\n",
       "      <td>81.0</td>\n",
       "      <td>80000.0</td>\n",
       "    </tr>\n",
       "    <tr>\n",
       "      <th>15</th>\n",
       "      <td>-1.0</td>\n",
       "      <td>1.0</td>\n",
       "      <td>0.0</td>\n",
       "      <td>81.0</td>\n",
       "      <td>60000.0</td>\n",
       "    </tr>\n",
       "    <tr>\n",
       "      <th>...</th>\n",
       "      <td>...</td>\n",
       "      <td>...</td>\n",
       "      <td>...</td>\n",
       "      <td>...</td>\n",
       "      <td>...</td>\n",
       "    </tr>\n",
       "    <tr>\n",
       "      <th>323</th>\n",
       "      <td>1.0</td>\n",
       "      <td>2.0</td>\n",
       "      <td>0.0</td>\n",
       "      <td>39.0</td>\n",
       "      <td>40000.0</td>\n",
       "    </tr>\n",
       "    <tr>\n",
       "      <th>192</th>\n",
       "      <td>-1.0</td>\n",
       "      <td>-1.0</td>\n",
       "      <td>0.0</td>\n",
       "      <td>58.0</td>\n",
       "      <td>60000.0</td>\n",
       "    </tr>\n",
       "    <tr>\n",
       "      <th>117</th>\n",
       "      <td>1.0</td>\n",
       "      <td>-1.0</td>\n",
       "      <td>0.0</td>\n",
       "      <td>87.0</td>\n",
       "      <td>40000.0</td>\n",
       "    </tr>\n",
       "    <tr>\n",
       "      <th>47</th>\n",
       "      <td>1.0</td>\n",
       "      <td>-1.0</td>\n",
       "      <td>2.0</td>\n",
       "      <td>73.0</td>\n",
       "      <td>60000.0</td>\n",
       "    </tr>\n",
       "    <tr>\n",
       "      <th>172</th>\n",
       "      <td>-1.0</td>\n",
       "      <td>3.0</td>\n",
       "      <td>3.0</td>\n",
       "      <td>60.0</td>\n",
       "      <td>40000.0</td>\n",
       "    </tr>\n",
       "  </tbody>\n",
       "</table>\n",
       "<p>491 rows × 5 columns</p>\n",
       "</div>"
      ],
      "text/plain": [
       "     marital_status  num_children  member_card   age  year_income\n",
       "238            -1.0           2.0          0.0  39.0      80000.0\n",
       "179             1.0           3.0          0.0  55.0      80000.0\n",
       "438            -1.0           2.0          0.0  49.0      80000.0\n",
       "325            -1.0          -1.0          0.0  81.0      80000.0\n",
       "15             -1.0           1.0          0.0  81.0      60000.0\n",
       "..              ...           ...          ...   ...          ...\n",
       "323             1.0           2.0          0.0  39.0      40000.0\n",
       "192            -1.0          -1.0          0.0  58.0      60000.0\n",
       "117             1.0          -1.0          0.0  87.0      40000.0\n",
       "47              1.0          -1.0          2.0  73.0      60000.0\n",
       "172            -1.0           3.0          3.0  60.0      40000.0\n",
       "\n",
       "[491 rows x 5 columns]"
      ]
     },
     "execution_count": 152,
     "metadata": {},
     "output_type": "execute_result"
    }
   ],
   "source": [
    "from sklearn.utils import shuffle\n",
    "traindf = shuffle(traindf)\n",
    "traindf"
   ]
  },
  {
   "cell_type": "code",
   "execution_count": 153,
   "metadata": {},
   "outputs": [],
   "source": [
    "def count_missing_val(Train=True):\n",
    "    \"\"\"\n",
    "    Count missing value in data.\n",
    "    \"\"\"\n",
    "    if Train:\n",
    "        df = traindf\n",
    "        print('[Training data]')\n",
    "    else:\n",
    "        df = cvdf\n",
    "        print('[Validation data]')\n",
    "    count = 0\n",
    "    for idx in range(len(df)):\n",
    "        a,b,c,d,e = df.iloc[idx]\n",
    "\n",
    "        if (a==-1.) or (b==-1.) or (c==-1.) or (d==-1.) or (e==-1.):\n",
    "            count += 1\n",
    "    \n",
    "    print('Total row:',len(df))\n",
    "    print('Missing row:',count)\n",
    "    print()"
   ]
  },
  {
   "cell_type": "code",
   "execution_count": 154,
   "metadata": {},
   "outputs": [
    {
     "name": "stdout",
     "output_type": "stream",
     "text": [
      "[Training data]\n",
      "Total row: 491\n",
      "Missing row: 320\n",
      "\n",
      "[Validation data]\n",
      "Total row: 211\n",
      "Missing row: 136\n",
      "\n"
     ]
    }
   ],
   "source": [
    "count_missing_val()\n",
    "count_missing_val(False)"
   ]
  },
  {
   "cell_type": "markdown",
   "metadata": {},
   "source": [
    "### Spliting   feature X and label y"
   ]
  },
  {
   "cell_type": "code",
   "execution_count": 155,
   "metadata": {},
   "outputs": [
    {
     "name": "stdout",
     "output_type": "stream",
     "text": [
      "train_X: (491, 4)\n",
      "train_y: (491,)\n"
     ]
    }
   ],
   "source": [
    "train_X = traindf[['marital_status','num_children','age','year_income']].values\n",
    "print('train_X:',train_X.shape)\n",
    "\n",
    "train_y = traindf['member_card'].values\n",
    "print('train_y:',train_y.shape)"
   ]
  },
  {
   "cell_type": "code",
   "execution_count": 156,
   "metadata": {},
   "outputs": [
    {
     "name": "stdout",
     "output_type": "stream",
     "text": [
      "cv_X: (211, 4)\n",
      "cv_y: (211,)\n"
     ]
    }
   ],
   "source": [
    "cv_X = cvdf[['marital_status','num_children','age','year_income']].values\n",
    "print('cv_X:',cv_X.shape)\n",
    "\n",
    "cv_y = cvdf['member_card'].values\n",
    "print('cv_y:',cv_y.shape)"
   ]
  },
  {
   "cell_type": "markdown",
   "metadata": {},
   "source": [
    "### Feature normalization"
   ]
  },
  {
   "cell_type": "code",
   "execution_count": 157,
   "metadata": {},
   "outputs": [],
   "source": [
    "from sklearn.preprocessing import MinMaxScaler\n",
    "scaler = MinMaxScaler((-1,1))"
   ]
  },
  {
   "cell_type": "code",
   "execution_count": 158,
   "metadata": {},
   "outputs": [],
   "source": [
    "X_scaled = scaler.fit_transform(train_X)\n",
    "X_test_scaled = scaler.fit_transform(cv_X)"
   ]
  },
  {
   "cell_type": "markdown",
   "metadata": {},
   "source": [
    "## check label balance"
   ]
  },
  {
   "cell_type": "code",
   "execution_count": 159,
   "metadata": {},
   "outputs": [],
   "source": [
    "def check_balance(Train=True):\n",
    "    if Train:\n",
    "        df = traindf\n",
    "        print('[Training]')\n",
    "    else:\n",
    "        df = cvdf\n",
    "        print('[Validation]')\n",
    "        \n",
    "    len0 = len(df[df['member_card']==0])\n",
    "    len1 = len(df[df['member_card']==1])\n",
    "    len2 = len(df[df['member_card']==2])\n",
    "    len3 = len(df[df['member_card']==3])\n",
    "    \n",
    "    max_ = max([len0, len1, len2, len3])\n",
    "    \n",
    "    weights = [max_/len0, max_/len1, max_/len2, max_/len3]\n",
    "\n",
    "    print('Num of label basic:',len0)\n",
    "    print('Num of label normal:',len1)\n",
    "    print('Num of label silver:',len2)\n",
    "    print('Num of label gold:',len3)\n",
    "    print('-'*20)\n",
    "    print('weights:',weights)\n",
    "    print('Total:',len0+len1+len2+len3)\n",
    "    print('Len of df:',len(df))\n",
    "    print()\n",
    "    \n",
    "    return weights"
   ]
  },
  {
   "cell_type": "code",
   "execution_count": 160,
   "metadata": {},
   "outputs": [
    {
     "name": "stdout",
     "output_type": "stream",
     "text": [
      "[Training]\n",
      "Num of label basic: 254\n",
      "Num of label normal: 79\n",
      "Num of label silver: 65\n",
      "Num of label gold: 93\n",
      "--------------------\n",
      "weights: [1.0, 3.2151898734177213, 3.9076923076923076, 2.7311827956989245]\n",
      "Total: 491\n",
      "Len of df: 491\n",
      "\n",
      "[Validation]\n",
      "Num of label basic: 126\n",
      "Num of label normal: 26\n",
      "Num of label silver: 33\n",
      "Num of label gold: 26\n",
      "--------------------\n",
      "weights: [1.0, 4.846153846153846, 3.8181818181818183, 4.846153846153846]\n",
      "Total: 211\n",
      "Len of df: 211\n",
      "\n"
     ]
    }
   ],
   "source": [
    "weights = check_balance()\n",
    "_ = check_balance(False)"
   ]
  },
  {
   "cell_type": "markdown",
   "metadata": {},
   "source": [
    "## pytorch"
   ]
  },
  {
   "cell_type": "markdown",
   "metadata": {},
   "source": [
    "### Prepare dataset"
   ]
  },
  {
   "cell_type": "code",
   "execution_count": 161,
   "metadata": {},
   "outputs": [],
   "source": [
    "import torch\n",
    "import torch.nn as nn\n",
    "torch.manual_seed(0)\n",
    "from torch.utils.data import Dataset, DataLoader\n",
    "from tqdm.notebook import tqdm"
   ]
  },
  {
   "cell_type": "code",
   "execution_count": 162,
   "metadata": {},
   "outputs": [
    {
     "name": "stdout",
     "output_type": "stream",
     "text": [
      "GPU is not avalible\n"
     ]
    }
   ],
   "source": [
    "if torch.cuda.is_available():\n",
    "    device = torch.device('cuda:0')\n",
    "    print('GPU is avalible')\n",
    "    print('Working on ',torch.cuda.get_device_name())\n",
    "else:\n",
    "    device = torch.device('cpu')\n",
    "    print('GPU is not avalible')"
   ]
  },
  {
   "cell_type": "code",
   "execution_count": 163,
   "metadata": {},
   "outputs": [],
   "source": [
    "class Data(Dataset):\n",
    "    # Constructor\n",
    "    def __init__(self, X, y):\n",
    "        self.x = torch.from_numpy(X).float()\n",
    "        self.y = torch.from_numpy(y).long()\n",
    "        self.len = len(X)\n",
    "            \n",
    "    # Getter\n",
    "    def __getitem__(self, index):\n",
    "        return self.x[index], self.y[index]\n",
    "    \n",
    "    # Get Length\n",
    "    def __len__(self):\n",
    "        return self.len"
   ]
  },
  {
   "cell_type": "code",
   "execution_count": 164,
   "metadata": {},
   "outputs": [],
   "source": [
    "train_set = Data(X_scaled, train_y)\n",
    "cv_set = Data(X_test_scaled, cv_y)"
   ]
  },
  {
   "cell_type": "markdown",
   "metadata": {},
   "source": [
    "### building model and training function"
   ]
  },
  {
   "cell_type": "code",
   "execution_count": 165,
   "metadata": {},
   "outputs": [],
   "source": [
    "def train(model, train_loader, cv_loader, optimizer ,N_train, N_test, epochs=20):\n",
    "\n",
    "    N_train=N_train\n",
    "    N_test=N_test\n",
    " \n",
    "    useful_stuff = {'train_cost':[], 'train_acc':[], 'valid_cost':[], 'valid_acc':[]} \n",
    "    for epoch in tqdm(range(epochs)):\n",
    "        #training===========================================\n",
    "        model.train() \n",
    "        correct = 0\n",
    "        training_loss=[]\n",
    "        for x, y in train_loader:\n",
    "            x, y = x.to(device), y.to(device)\n",
    "            optimizer.zero_grad()\n",
    "            z = model(x)\n",
    "            _, yhat = torch.max(z.data, 1)\n",
    "            correct += (yhat == y).sum().item()\n",
    "            loss = criterion(z, y)\n",
    "            loss.backward()\n",
    "            optimizer.step()\n",
    "            training_loss.append(loss.data.item())   \n",
    "\n",
    "        useful_stuff['train_cost'].append(np.mean(training_loss))\n",
    "        useful_stuff['train_acc'].append(correct / N_train)\n",
    "\n",
    "        #valid==================================================\n",
    "        model.eval() \n",
    "        correct = 0\n",
    "        cv_loss=[]\n",
    "        with torch.no_grad():\n",
    "            for x_test, y_test in cv_loader:\n",
    "                x_test, y_test = x_test.to(device), y_test.to(device)\n",
    "                z = model(x_test)\n",
    "                _, yhat = torch.max(z.data, 1)\n",
    "                correct += (yhat == y_test).sum().item()\n",
    "                loss = criterion(z, y_test)         \n",
    "                cv_loss.append(loss.data.item())\n",
    "\n",
    "        useful_stuff['valid_cost'].append(np.mean(cv_loss))\n",
    "        useful_stuff['valid_acc'].append(correct / N_test)\n",
    "\n",
    "        scheduler.step(np.mean(cv_loss)) # ***learning rate scheduler*** <----\n",
    "\n",
    "    return useful_stuff"
   ]
  },
  {
   "cell_type": "code",
   "execution_count": 166,
   "metadata": {},
   "outputs": [],
   "source": [
    "class NN(nn.Module):\n",
    "    def __init__(self, input_dim, hidden_dim, droprate, num_class):\n",
    "        super(NN, self).__init__()\n",
    "\n",
    "        self.input_dim = input_dim\n",
    "        self.hidden_dim = hidden_dim\n",
    "        self.droprate = droprate\n",
    "        self.num_class = num_class\n",
    "\n",
    "        self.feature = nn.Sequential(\n",
    "            #0\n",
    "            nn.Linear(self.input_dim, self.hidden_dim),\n",
    "            nn.BatchNorm1d(self.hidden_dim),\n",
    "            nn.ReLU(),\n",
    "            nn.Dropout(p=self.droprate),\n",
    "            #1\n",
    "            nn.Linear(self.hidden_dim, self.hidden_dim),\n",
    "            nn.BatchNorm1d(self.hidden_dim),\n",
    "            nn.ReLU(),\n",
    "            nn.Dropout(p=self.droprate),\n",
    "            #2\n",
    "            nn.Linear(self.hidden_dim, self.hidden_dim),\n",
    "            nn.BatchNorm1d(self.hidden_dim),\n",
    "            nn.ReLU(),\n",
    "            nn.Dropout(p=self.droprate),\n",
    "            #3\n",
    "            nn.Linear(self.hidden_dim, self.hidden_dim),\n",
    "            nn.BatchNorm1d(self.hidden_dim),\n",
    "            nn.ReLU(),\n",
    "            nn.Dropout(p=self.droprate),\n",
    "            #\n",
    "            nn.Linear(self.hidden_dim, self.num_class),\n",
    "        )\n",
    "\n",
    "    def forward(self, x):\n",
    "        x = self.feature(x)\n",
    "        x = x.squeeze()\n",
    "        return x"
   ]
  },
  {
   "cell_type": "code",
   "execution_count": 167,
   "metadata": {},
   "outputs": [],
   "source": [
    "def init_weights(m):\n",
    "    \"\"\"\n",
    "    Apply He initializayion in linear layer.\n",
    "    \"\"\"\n",
    "    if type(m) == nn.Linear:\n",
    "        torch.nn.init.kaiming_uniform_(m.weight)\n",
    "        m.bias.data.fill_(0.01)"
   ]
  },
  {
   "cell_type": "code",
   "execution_count": 168,
   "metadata": {},
   "outputs": [
    {
     "data": {
      "text/plain": [
       "NN(\n",
       "  (feature): Sequential(\n",
       "    (0): Linear(in_features=4, out_features=10, bias=True)\n",
       "    (1): BatchNorm1d(10, eps=1e-05, momentum=0.1, affine=True, track_running_stats=True)\n",
       "    (2): ReLU()\n",
       "    (3): Dropout(p=0.1, inplace=False)\n",
       "    (4): Linear(in_features=10, out_features=10, bias=True)\n",
       "    (5): BatchNorm1d(10, eps=1e-05, momentum=0.1, affine=True, track_running_stats=True)\n",
       "    (6): ReLU()\n",
       "    (7): Dropout(p=0.1, inplace=False)\n",
       "    (8): Linear(in_features=10, out_features=10, bias=True)\n",
       "    (9): BatchNorm1d(10, eps=1e-05, momentum=0.1, affine=True, track_running_stats=True)\n",
       "    (10): ReLU()\n",
       "    (11): Dropout(p=0.1, inplace=False)\n",
       "    (12): Linear(in_features=10, out_features=10, bias=True)\n",
       "    (13): BatchNorm1d(10, eps=1e-05, momentum=0.1, affine=True, track_running_stats=True)\n",
       "    (14): ReLU()\n",
       "    (15): Dropout(p=0.1, inplace=False)\n",
       "    (16): Linear(in_features=10, out_features=4, bias=True)\n",
       "  )\n",
       ")"
      ]
     },
     "execution_count": 168,
     "metadata": {},
     "output_type": "execute_result"
    }
   ],
   "source": [
    "model = NN(input_dim=4, hidden_dim=10, droprate=0.1, num_class=4) #<--------dropout rate\n",
    "model.apply(init_weights)\n",
    "model.to(device)"
   ]
  },
  {
   "cell_type": "code",
   "execution_count": 169,
   "metadata": {},
   "outputs": [
    {
     "name": "stdout",
     "output_type": "stream",
     "text": [
      "----------------------------------------------------------------\n",
      "        Layer (type)               Output Shape         Param #\n",
      "================================================================\n",
      "            Linear-1               [-1, 10, 10]              50\n",
      "       BatchNorm1d-2               [-1, 10, 10]              20\n",
      "              ReLU-3               [-1, 10, 10]               0\n",
      "           Dropout-4               [-1, 10, 10]               0\n",
      "            Linear-5               [-1, 10, 10]             110\n",
      "       BatchNorm1d-6               [-1, 10, 10]              20\n",
      "              ReLU-7               [-1, 10, 10]               0\n",
      "           Dropout-8               [-1, 10, 10]               0\n",
      "            Linear-9               [-1, 10, 10]             110\n",
      "      BatchNorm1d-10               [-1, 10, 10]              20\n",
      "             ReLU-11               [-1, 10, 10]               0\n",
      "          Dropout-12               [-1, 10, 10]               0\n",
      "           Linear-13               [-1, 10, 10]             110\n",
      "      BatchNorm1d-14               [-1, 10, 10]              20\n",
      "             ReLU-15               [-1, 10, 10]               0\n",
      "          Dropout-16               [-1, 10, 10]               0\n",
      "           Linear-17                [-1, 10, 4]              44\n",
      "================================================================\n",
      "Total params: 504\n",
      "Trainable params: 504\n",
      "Non-trainable params: 0\n",
      "----------------------------------------------------------------\n",
      "Input size (MB): 0.00\n",
      "Forward/backward pass size (MB): 0.01\n",
      "Params size (MB): 0.00\n",
      "Estimated Total Size (MB): 0.01\n",
      "----------------------------------------------------------------\n"
     ]
    }
   ],
   "source": [
    "from torchsummary import summary\n",
    "summary(model.to(device), (10,4))"
   ]
  },
  {
   "cell_type": "markdown",
   "metadata": {},
   "source": [
    "### hyperparameters"
   ]
  },
  {
   "cell_type": "code",
   "execution_count": 170,
   "metadata": {},
   "outputs": [
    {
     "data": {
      "application/vnd.jupyter.widget-view+json": {
       "model_id": "fcfa01e1855c45bc83408a5b15892803",
       "version_major": 2,
       "version_minor": 0
      },
      "text/plain": [
       "HBox(children=(HTML(value=''), FloatProgress(value=0.0, max=200.0), HTML(value='')))"
      ]
     },
     "metadata": {},
     "output_type": "display_data"
    },
    {
     "name": "stdout",
     "output_type": "stream",
     "text": [
      "\n"
     ]
    }
   ],
   "source": [
    "class_weights = torch.FloatTensor(weights).to(device)\n",
    "criterion = nn.CrossEntropyLoss(weight=class_weights)\n",
    "learning_rate = 5e-4\n",
    "\n",
    "optimizer = torch.optim.AdamW(model.parameters(), lr=learning_rate)\n",
    "scheduler = torch.optim.lr_scheduler.ReduceLROnPlateau(optimizer, 'min', patience=10, factor=0.1)\n",
    "\n",
    "bs = 32\n",
    "train_loader = DataLoader(dataset=train_set, batch_size=bs, shuffle=True)\n",
    "cv_loader = DataLoader(dataset=cv_set, batch_size=1024)\n",
    "N_train = len(train_set)\n",
    "N_test = len(cv_set)\n",
    "useful_stuff = train(model=model, train_loader=train_loader, cv_loader=cv_loader, optimizer=optimizer, N_train=N_train, N_test=N_test, epochs=200)"
   ]
  },
  {
   "cell_type": "markdown",
   "metadata": {},
   "source": [
    "## Metrics"
   ]
  },
  {
   "cell_type": "code",
   "execution_count": 171,
   "metadata": {},
   "outputs": [],
   "source": [
    "def calc_metric(useful_stuff,train=True):\n",
    "    if train:\n",
    "        loss = useful_stuff['train_cost'][-1]\n",
    "        acc = useful_stuff['train_acc'][-1]\n",
    "        print('training acc:', acc)\n",
    "        print('training loss:', loss)\n",
    "    else:\n",
    "        loss =useful_stuff['valid_cost'][-1]\n",
    "        acc = useful_stuff['valid_acc'][-1]\n",
    "        print('validation acc:', acc)\n",
    "        print('validation loss:', loss)\n",
    "    print()"
   ]
  },
  {
   "cell_type": "markdown",
   "metadata": {},
   "source": [
    "## Learning curve"
   ]
  },
  {
   "cell_type": "code",
   "execution_count": 172,
   "metadata": {},
   "outputs": [],
   "source": [
    "import matplotlib.pyplot as plt\n",
    "plt.rcParams[\"figure.figsize\"] = (12,8)"
   ]
  },
  {
   "cell_type": "code",
   "execution_count": 173,
   "metadata": {},
   "outputs": [
    {
     "data": {
      "image/png": "[encoded data removed]",
      "text/plain": [
       "<Figure size 864x576 with 1 Axes>"
      ]
     },
     "metadata": {
      "needs_background": "light"
     },
     "output_type": "display_data"
    },
    {
     "name": "stdout",
     "output_type": "stream",
     "text": [
      "training acc: 0.35845213849287166\n",
      "training loss: 1.337266854941845\n",
      "\n",
      "validation acc: 0.3981042654028436\n",
      "validation loss: 1.290447473526001\n",
      "\n"
     ]
    }
   ],
   "source": [
    "plt.plot(useful_stuff['train_cost'], label = 'train')\n",
    "plt.plot(useful_stuff['valid_cost'], label = 'validation')\n",
    "plt.ylabel('loss')\n",
    "plt.xlabel('epochs')\n",
    "plt.legend()\n",
    "plt.title('train / valid cost per iterations')\n",
    "# axes = plt.gca()\n",
    "# axes.set_ylim([0, 1])\n",
    "plt.grid()\n",
    "plt.show()\n",
    "\n",
    "calc_metric(useful_stuff)\n",
    "calc_metric(useful_stuff, train=False)"
   ]
  },
  {
   "cell_type": "code",
   "execution_count": 174,
   "metadata": {},
   "outputs": [
    {
     "data": {
      "image/png": "[encoded data removed]",
      "text/plain": [
       "<Figure size 864x576 with 1 Axes>"
      ]
     },
     "metadata": {
      "needs_background": "light"
     },
     "output_type": "display_data"
    },
    {
     "name": "stdout",
     "output_type": "stream",
     "text": [
      "training acc: 0.35845213849287166\n",
      "training loss: 1.337266854941845\n",
      "\n",
      "validation acc: 0.3981042654028436\n",
      "validation loss: 1.290447473526001\n",
      "\n"
     ]
    }
   ],
   "source": [
    "plt.plot(useful_stuff['train_acc'], label = 'train')\n",
    "plt.plot(useful_stuff['valid_acc'], label = 'validation')\n",
    "plt.ylabel('acc')\n",
    "plt.xlabel('epochs')\n",
    "plt.legend()\n",
    "plt.title('train / valid cost per iterations')\n",
    "axes = plt.gca()\n",
    "axes.set_ylim([0, 1])\n",
    "plt.grid()\n",
    "plt.show()\n",
    "\n",
    "calc_metric(useful_stuff)\n",
    "calc_metric(useful_stuff, train=False)"
   ]
  },
  {
   "cell_type": "code",
   "execution_count": null,
   "metadata": {},
   "outputs": [],
   "source": []
  }
 ],
 "metadata": {
  "kernelspec": {
   "display_name": "Python 3",
   "language": "python",
   "name": "python3"
  },
  "language_info": {
   "codemirror_mode": {
    "name": "ipython",
    "version": 3
   },
   "file_extension": ".py",
   "mimetype": "text/x-python",
   "name": "python",
   "nbconvert_exporter": "python",
   "pygments_lexer": "ipython3",
   "version": "3.8.6"
  }
 },
 "nbformat": 4,
 "nbformat_minor": 4
}
