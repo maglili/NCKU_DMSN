{
 "cells": [
  {
   "cell_type": "markdown",
   "metadata": {},
   "source": [
    "# K-means"
   ]
  },
  {
   "cell_type": "code",
   "execution_count": 1,
   "metadata": {},
   "outputs": [],
   "source": [
    "import numpy as np\n",
    "import pandas as pd\n",
    "import random\n",
    "random.seed(0)\n",
    "import numpy as np\n",
    "np.random.seed(0)\n",
    "import csv"
   ]
  },
  {
   "cell_type": "markdown",
   "metadata": {},
   "source": [
    "## Impleting k-means"
   ]
  },
  {
   "cell_type": "code",
   "execution_count": 2,
   "metadata": {},
   "outputs": [],
   "source": [
    "def openfile(filename):\n",
    "    \"\"\"\n",
    "    Opening files and return array.\n",
    "    \"\"\"\n",
    "    path='./' + filename\n",
    "    x = []\n",
    "    y = []\n",
    "    label = []\n",
    "    with open(path) as fh:\n",
    "        for row in fh:\n",
    "            row = row.split()\n",
    "            row = [float(x) for x in row]\n",
    "            row.append(np.nan)\n",
    "            x.append(row[0])\n",
    "            y.append(row[1])\n",
    "            label.append(row[2])\n",
    "    df = pd.DataFrame({'x':x, 'y':y, 'label':label})\n",
    "    return df     "
   ]
  },
  {
   "cell_type": "code",
   "execution_count": 3,
   "metadata": {},
   "outputs": [],
   "source": [
    "def init_centroid(k, df):\n",
    "    \"\"\"\n",
    "    initialize centroid.\n",
    "    \"\"\"\n",
    "    centroid = {}\n",
    "    for i in range(k):\n",
    "        xlist = df['x'].sample(n=k, random_state=i).tolist()\n",
    "        ylist = df['y'].sample(n=k, random_state=i).tolist()\n",
    "        centroid[str(i)] = (np.mean(xlist)+0.5, np.mean(ylist)+0.5)\n",
    "    return centroid"
   ]
  },
  {
   "cell_type": "code",
   "execution_count": 4,
   "metadata": {},
   "outputs": [],
   "source": [
    "def calc_label(x, y, centroid):\n",
    "    \"\"\"\n",
    "    calc distance between data and centroid,\n",
    "    and choose shortest one as output label.\n",
    "    \"\"\"\n",
    "    distance = np.inf\n",
    "    label = None\n",
    "    for key, value in centroid.items():   \n",
    "        dist = np.sqrt((x-value[0])**2 + (y-value[1])**2)  \n",
    "        if dist < distance:\n",
    "            distance = dist\n",
    "            label = int(key)    \n",
    "    return label"
   ]
  },
  {
   "cell_type": "code",
   "execution_count": 5,
   "metadata": {},
   "outputs": [],
   "source": [
    "# calc label\n",
    "def k_means(df, centroid):\n",
    "    \"\"\"\n",
    "    calc each row's label and return new dataFrame.\n",
    "    \"\"\"\n",
    "    data = df.to_numpy()\n",
    "    count = 0\n",
    "    for idx in range(len(data)):\n",
    "        location = data[idx][:2]\n",
    "        x = location[0]\n",
    "        y = location[1]\n",
    "        label = calc_label(x,y,centroid)\n",
    "        count +=1\n",
    "        data[idx][2] = label\n",
    "    # change data to DataFrame\n",
    "    x = data[:,0].tolist()\n",
    "    y = data[:,1].tolist()\n",
    "    label = data[:,2].tolist()\n",
    "    new_df = pd.DataFrame({'x':x, 'y':y, 'label':label})\n",
    "    return new_df"
   ]
  },
  {
   "cell_type": "code",
   "execution_count": 6,
   "metadata": {},
   "outputs": [],
   "source": [
    "def calc_new_centroid(df, centroid) -> dict:\n",
    "    \"\"\"\n",
    "    clac new centroid\n",
    "    \"\"\"\n",
    "    for i in range(k):\n",
    "        xlist = df[df['label']==i]['x'].tolist()\n",
    "        ylist = df[df['label']==i]['y'].tolist()\n",
    "        centroid[str(i)] = (np.mean(xlist), np.mean(ylist))\n",
    "    return centroid"
   ]
  },
  {
   "cell_type": "code",
   "execution_count": 7,
   "metadata": {},
   "outputs": [],
   "source": [
    "def main(df, centroid):\n",
    "    \"\"\"\n",
    "    Main function\n",
    "    \"\"\"\n",
    "    count = 0\n",
    "    while True:\n",
    "        # calc label\n",
    "        new_df = k_means(df, centroid.copy())\n",
    "\n",
    "        # calc new centroids\n",
    "        new_centroid =  calc_new_centroid(new_df, centroid.copy())\n",
    "\n",
    "        if new_centroid == centroid:\n",
    "            break\n",
    "        else:\n",
    "            centroid = new_centroid\n",
    "            df = new_df\n",
    "            count += 1\n",
    "        \n",
    "    print('iterations:',count)\n",
    "    return new_df"
   ]
  },
  {
   "cell_type": "code",
   "execution_count": 8,
   "metadata": {},
   "outputs": [],
   "source": [
    "def output_pred(df):\n",
    "    \"\"\"\n",
    "    Output prediction as txt files.\n",
    "    \"\"\"\n",
    "    with open('./output/'+filename+'_output.txt', 'w', newline='') as csvfile:\n",
    "        writer = csv.writer(csvfile, delimiter='\\t')\n",
    "\n",
    "        for idx in range(len(df)):\n",
    "            writer.writerow([df.iloc[idx][0], df.iloc[idx][1], df.iloc[idx][2]])"
   ]
  },
  {
   "cell_type": "markdown",
   "metadata": {},
   "source": [
    "## main"
   ]
  },
  {
   "cell_type": "code",
   "execution_count": 9,
   "metadata": {},
   "outputs": [
    {
     "name": "stdout",
     "output_type": "stream",
     "text": [
      "iterations: 6\n"
     ]
    }
   ],
   "source": [
    "filename = 'Clustering_test1'\n",
    "path = './input/'+filename\n",
    "data = openfile(path)\n",
    "k = 4\n",
    "centroid = init_centroid(k, data)\n",
    "new_df = main(data, centroid)\n",
    "output_pred(new_df)"
   ]
  },
  {
   "cell_type": "code",
   "execution_count": 10,
   "metadata": {},
   "outputs": [
    {
     "name": "stdout",
     "output_type": "stream",
     "text": [
      "iterations: 15\n"
     ]
    }
   ],
   "source": [
    "filename = 'Clustering_test2'\n",
    "path = './input/'+filename\n",
    "data = openfile(path)\n",
    "k = 4\n",
    "centroid = init_centroid(k, data)\n",
    "new_df = main(data, centroid)\n",
    "output_pred(new_df)"
   ]
  },
  {
   "cell_type": "code",
   "execution_count": 11,
   "metadata": {},
   "outputs": [
    {
     "name": "stdout",
     "output_type": "stream",
     "text": [
      "iterations: 14\n"
     ]
    }
   ],
   "source": [
    "filename = 'Clustering_test3'\n",
    "path = './input/'+filename\n",
    "data = openfile(path)\n",
    "k = 4\n",
    "centroid = init_centroid(k, data)\n",
    "new_df = main(data, centroid)\n",
    "output_pred(new_df)"
   ]
  },
  {
   "cell_type": "code",
   "execution_count": 12,
   "metadata": {},
   "outputs": [
    {
     "name": "stdout",
     "output_type": "stream",
     "text": [
      "iterations: 10\n"
     ]
    }
   ],
   "source": [
    "filename = 'Clustering_test4'\n",
    "path = './input/'+filename\n",
    "data = openfile(path)\n",
    "k = 4\n",
    "centroid = init_centroid(k, data)\n",
    "new_df = main(data, centroid)\n",
    "output_pred(new_df)"
   ]
  },
  {
   "cell_type": "code",
   "execution_count": 13,
   "metadata": {},
   "outputs": [
    {
     "name": "stdout",
     "output_type": "stream",
     "text": [
      "iterations: 15\n"
     ]
    }
   ],
   "source": [
    "filename = 'Clustering_test5'\n",
    "path = './input/'+filename\n",
    "data = openfile(path)\n",
    "k = 4\n",
    "centroid = init_centroid(k, data)\n",
    "new_df = main(data, centroid)\n",
    "output_pred(new_df)"
   ]
  },
  {
   "cell_type": "code",
   "execution_count": null,
   "metadata": {},
   "outputs": [],
   "source": []
  }
 ],
 "metadata": {
  "kernelspec": {
   "display_name": "Python 3",
   "language": "python",
   "name": "python3"
  },
  "language_info": {
   "codemirror_mode": {
    "name": "ipython",
    "version": 3
   },
   "file_extension": ".py",
   "mimetype": "text/x-python",
   "name": "python",
   "nbconvert_exporter": "python",
   "pygments_lexer": "ipython3",
   "version": "3.8.6"
  }
 },
 "nbformat": 4,
 "nbformat_minor": 4
}
